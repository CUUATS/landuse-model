{
 "cells": [
  {
   "cell_type": "code",
   "execution_count": 1,
   "metadata": {
    "collapsed": true
   },
   "outputs": [],
   "source": [
    "# %load_ext autoreload\n",
    "# %autoreload 2\n",
    "import models, utils\n",
    "import orca"
   ]
  },
  {
   "cell_type": "code",
   "execution_count": 2,
   "metadata": {
    "collapsed": false
   },
   "outputs": [
    {
     "name": "stdout",
     "output_type": "stream",
     "text": [
      "Running iteration 1 with iteration value 2010\n",
      "Running step 'households_transition'\n",
      "77179 agents before transition\n",
      "81038 agents after transition\n",
      "Time to execute step 'households_transition': 0.05 s\n",
      "Total time to execute iteration 1 with iteration value 2010: 0.07 s\n",
      "Running iteration 2 with iteration value 2015\n",
      "Running step 'households_transition'\n",
      "81038 agents before transition\n",
      "85090 agents after transition\n",
      "Time to execute step 'households_transition': 0.02 s\n",
      "Total time to execute iteration 2 with iteration value 2015: 0.02 s\n"
     ]
    }
   ],
   "source": [
    "orca.run([\"households_transition\"], iter_vars=[2010, 2015])"
   ]
  },
  {
   "cell_type": "code",
   "execution_count": 3,
   "metadata": {
    "collapsed": false
   },
   "outputs": [
    {
     "name": "stdout",
     "output_type": "stream",
     "text": [
      "Filling column non_residential_rent with value 0 (142400 values)\n",
      "Filling column residential_units with value 0 (0 values)\n",
      "Filling column year_built with value 1927.0 (3116 values)\n",
      "Filling column residential_sales_price with value 0 (14196 values)\n",
      "Filling column non_residential_sqft with value 0 (1341 values)\n",
      "Filling column building_type_id with value 2.0 (0 values)\n"
     ]
    }
   ],
   "source": [
    "\n",
    "df = orca.get_table('households').to_frame()"
   ]
  },
  {
   "cell_type": "code",
   "execution_count": 4,
   "metadata": {
    "collapsed": false
   },
   "outputs": [],
   "source": [
    "df.to_csv('household_transition.csv')\n",
    "\n",
    "#### to_csv() function outputs datafram directly to the same folder this python script is located."
   ]
  }
 ],
 "metadata": {
  "kernelspec": {
   "display_name": "Python 2",
   "language": "python",
   "name": "python2"
  },
  "language_info": {
   "codemirror_mode": {
    "name": "ipython",
    "version": 2
   },
   "file_extension": ".py",
   "mimetype": "text/x-python",
   "name": "python",
   "nbconvert_exporter": "python",
   "pygments_lexer": "ipython2",
   "version": "2.7.13"
  }
 },
 "nbformat": 4,
 "nbformat_minor": 0
}
