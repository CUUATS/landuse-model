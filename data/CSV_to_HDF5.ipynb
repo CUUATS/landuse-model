{
 "cells": [
  {
   "cell_type": "code",
   "execution_count": 1,
   "metadata": {
    "collapsed": false
   },
   "outputs": [],
   "source": [
    "import numpy as np\n",
    "import pandas as pd\n",
    "import h5py\n",
    "import csv\n",
    "import sys\n"
   ]
  },
  {
   "cell_type": "code",
   "execution_count": 2,
   "metadata": {
    "collapsed": false
   },
   "outputs": [
    {
     "ename": "TypeError",
     "evalue": "descriptor 'close' of 'file' object needs an argument",
     "output_type": "error",
     "traceback": [
      "\u001b[0;31m---------------------------------------------------------------------------\u001b[0m",
      "\u001b[0;31mTypeError\u001b[0m                                 Traceback (most recent call last)",
      "\u001b[0;32m<ipython-input-2-7eaccde36ac7>\u001b[0m in \u001b[0;36m<module>\u001b[0;34m()\u001b[0m\n\u001b[1;32m      2\u001b[0m \u001b[1;33m\u001b[0m\u001b[0m\n\u001b[1;32m      3\u001b[0m \u001b[0mf\u001b[0m \u001b[1;33m=\u001b[0m \u001b[0mh5py\u001b[0m\u001b[1;33m.\u001b[0m\u001b[0mFile\u001b[0m\u001b[1;33m(\u001b[0m\u001b[1;34m'sanfran_public.h5'\u001b[0m\u001b[1;33m,\u001b[0m\u001b[1;34m'w'\u001b[0m\u001b[1;33m)\u001b[0m\u001b[1;33m\u001b[0m\u001b[0m\n\u001b[0;32m----> 4\u001b[0;31m \u001b[0mfile\u001b[0m\u001b[1;33m.\u001b[0m\u001b[0mclose\u001b[0m\u001b[1;33m(\u001b[0m\u001b[1;33m)\u001b[0m\u001b[1;33m\u001b[0m\u001b[0m\n\u001b[0m",
      "\u001b[0;31mTypeError\u001b[0m: descriptor 'close' of 'file' object needs an argument"
     ]
    }
   ],
   "source": [
    "#Create h5 file \n",
    "\n",
    "#### Cannot find h5 source function for naming the data. Currently anything other than 'sanfran_public.h5' does not run.\n",
    "\n",
    "f = h5py.File('sanfran_public.h5','w')\n",
    "file.close()\n"
   ]
  },
  {
   "cell_type": "code",
   "execution_count": 4,
   "metadata": {
    "collapsed": false
   },
   "outputs": [],
   "source": [
    "#Assign csv files to variables for h5 conversion \n",
    "\n",
    "buildings = csv.reader(open('csvfiles/buildings.csv'))\n",
    "households = csv.reader(open('csvfiles/households.csv'))\n",
    "jobs = csv.reader(open('csvfiles/jobs.csv'))\n",
    "parcels = csv.reader(open('csvfiles/parcels.csv'))\n",
    "zones = csv.reader(open('csvfiles/zones.csv'))\n",
    "zoning = csv.reader(open('csvfiles/zoning.csv'))\n",
    "zoning_for_parcels = csv.reader(open('csvfiles/zoning_for_parcels.csv'))\n"
   ]
  },
  {
   "cell_type": "code",
   "execution_count": 4,
   "metadata": {
    "collapsed": false
   },
   "outputs": [],
   "source": [
    "#Assign csv files to variables for h5 conversion \n",
    "\n",
    "buildings = pd.read_csv('csvfiles/buildings.csv')\n",
    "households = pd.read_csv('csvfiles/households.csv')\n",
    "jobs = pd.read_csv('csvfiles/jobs.csv')\n",
    "parcels = pd.read_csv('csvfiles/parcels.csv')\n",
    "zones = pd.read_csv('csvfiles/zones.csv')\n",
    "zoning = pd.read_csv('csvfiles/zoning.csv')\n",
    "zoning_for_parcels = pd.read_csv('csvfiles/zoning_for_parcels.csv')\n"
   ]
  },
  {
   "cell_type": "code",
   "execution_count": 5,
   "metadata": {
    "collapsed": false
   },
   "outputs": [
    {
     "name": "stderr",
     "output_type": "stream",
     "text": [
      "C:\\Users\\hlc42705\\AppData\\Local\\Continuum\\Anaconda2\\lib\\site-packages\\pandas\\core\\generic.py:1299: PerformanceWarning: \n",
      "your performance may suffer as PyTables will pickle object types that it cannot\n",
      "map directly to c-types [inferred_type->mixed,key->block1_values] [items->['job_category']]\n",
      "\n",
      "  return pytables.to_hdf(path_or_buf, key, self, **kwargs)\n"
     ]
    }
   ],
   "source": [
    "#Appending csv variables to h5 file\n",
    "\n",
    "buildings.to_hdf('sanfran_public.h5', 'buildings')\n",
    "households.to_hdf('sanfran_public.h5', 'households')\n",
    "jobs.to_hdf('sanfran_public.h5', 'jobs')\n",
    "parcels.to_hdf('sanfran_public.h5', 'parcels')\n",
    "zones.to_hdf('sanfran_public.h5', 'zones')\n",
    "zoning.to_hdf('sanfran_public.h5', 'zoning')\n",
    "zoning_for_parcels.to_hdf('sanfran_public.h5', 'zoning_for_parcels')\n"
   ]
  },
  {
   "cell_type": "code",
   "execution_count": 6,
   "metadata": {
    "collapsed": false
   },
   "outputs": [],
   "source": [
    "#Switch to read only mode\n",
    "\n",
    "f = h5py.File('sanfran_public.h5', 'r')\n"
   ]
  },
  {
   "cell_type": "code",
   "execution_count": 7,
   "metadata": {
    "collapsed": false
   },
   "outputs": [
    {
     "name": "stdout",
     "output_type": "stream",
     "text": [
      "Keys: [u'buildings', u'households', u'jobs', u'parcels', u'zones', u'zoning', u'zoning_for_parcels']\n"
     ]
    }
   ],
   "source": [
    "#Checking new keys in h5 file\n",
    "\n",
    "print(\"Keys: %s\" % f.keys())\n",
    "a_group_key = f.keys()[0]\n"
   ]
  },
  {
   "cell_type": "code",
   "execution_count": null,
   "metadata": {
    "collapsed": true
   },
   "outputs": [],
   "source": []
  }
 ],
 "metadata": {
  "kernelspec": {
   "display_name": "Python 2",
   "language": "python",
   "name": "python2"
  },
  "language_info": {
   "codemirror_mode": {
    "name": "ipython",
    "version": 2
   },
   "file_extension": ".py",
   "mimetype": "text/x-python",
   "name": "python",
   "nbconvert_exporter": "python",
   "pygments_lexer": "ipython2",
   "version": "2.7.13"
  }
 },
 "nbformat": 4,
 "nbformat_minor": 2
}
